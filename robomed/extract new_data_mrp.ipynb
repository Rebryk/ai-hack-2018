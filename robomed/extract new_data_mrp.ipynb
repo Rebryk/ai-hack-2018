{
 "cells": [
  {
   "cell_type": "code",
   "execution_count": 1,
   "metadata": {},
   "outputs": [],
   "source": [
    "import numpy as np\n",
    "import pandas as pd\n",
    "import seaborn as sns\n",
    "import catboost as cb\n",
    "import matplotlib.pyplot as plt\n",
    "\n",
    "from sklearn.model_selection import train_test_split"
   ]
  },
  {
   "cell_type": "code",
   "execution_count": 2,
   "metadata": {},
   "outputs": [],
   "source": [
    "%%capture\n",
    "d = pd.read_csv('train_data.csv', error_bad_lines=False, header=0)"
   ]
  },
  {
   "cell_type": "code",
   "execution_count": 3,
   "metadata": {},
   "outputs": [
    {
     "data": {
      "text/html": [
       "<div>\n",
       "<style scoped>\n",
       "    .dataframe tbody tr th:only-of-type {\n",
       "        vertical-align: middle;\n",
       "    }\n",
       "\n",
       "    .dataframe tbody tr th {\n",
       "        vertical-align: top;\n",
       "    }\n",
       "\n",
       "    .dataframe thead th {\n",
       "        text-align: right;\n",
       "    }\n",
       "</style>\n",
       "<table border=\"1\" class=\"dataframe\">\n",
       "  <thead>\n",
       "    <tr style=\"text-align: right;\">\n",
       "      <th></th>\n",
       "      <th>ID</th>\n",
       "      <th>Код_диагноза</th>\n",
       "      <th>Диагноз</th>\n",
       "      <th>Возраст</th>\n",
       "      <th>Пол</th>\n",
       "      <th>Общее состояние</th>\n",
       "      <th>аллергия</th>\n",
       "      <th>Анамнез заболевания</th>\n",
       "      <th>Внешний осмотр</th>\n",
       "      <th>Revisit</th>\n",
       "    </tr>\n",
       "  </thead>\n",
       "  <tbody>\n",
       "    <tr>\n",
       "      <th>0</th>\n",
       "      <td>0</td>\n",
       "      <td>J06.0</td>\n",
       "      <td>Острый ларингофарингит</td>\n",
       "      <td>29</td>\n",
       "      <td>2</td>\n",
       "      <td>NaN</td>\n",
       "      <td>NaN</td>\n",
       "      <td>NaN</td>\n",
       "      <td>На жевательной поверхности 2.6- кариозная поло...</td>\n",
       "      <td>1</td>\n",
       "    </tr>\n",
       "    <tr>\n",
       "      <th>1</th>\n",
       "      <td>1</td>\n",
       "      <td>N76.1</td>\n",
       "      <td>Подострый и хронический вагинит</td>\n",
       "      <td>45</td>\n",
       "      <td>2</td>\n",
       "      <td>NaN</td>\n",
       "      <td>NaN</td>\n",
       "      <td>считает себя больной на протяжении многих лет....</td>\n",
       "      <td>NaN</td>\n",
       "      <td>1</td>\n",
       "    </tr>\n",
       "    <tr>\n",
       "      <th>2</th>\n",
       "      <td>2</td>\n",
       "      <td>L23.9</td>\n",
       "      <td>Аллергический контактный дерматит, причина не ...</td>\n",
       "      <td>63</td>\n",
       "      <td>2</td>\n",
       "      <td>NaN</td>\n",
       "      <td>NaN</td>\n",
       "      <td>Болен около 2-х дней, когда появились описанны...</td>\n",
       "      <td>NaN</td>\n",
       "      <td>1</td>\n",
       "    </tr>\n",
       "    <tr>\n",
       "      <th>3</th>\n",
       "      <td>3</td>\n",
       "      <td>N48.1</td>\n",
       "      <td>Баланопостит</td>\n",
       "      <td>43</td>\n",
       "      <td>2</td>\n",
       "      <td>NaN</td>\n",
       "      <td>не отягощен</td>\n",
       "      <td>NaN</td>\n",
       "      <td>NaN</td>\n",
       "      <td>1</td>\n",
       "    </tr>\n",
       "    <tr>\n",
       "      <th>4</th>\n",
       "      <td>4</td>\n",
       "      <td>Z00.0</td>\n",
       "      <td>Общий медицинский осмотр</td>\n",
       "      <td>29</td>\n",
       "      <td>1</td>\n",
       "      <td>NaN</td>\n",
       "      <td>NaN</td>\n",
       "      <td>провела полное обследование для оперативного л...</td>\n",
       "      <td>NaN</td>\n",
       "      <td>1</td>\n",
       "    </tr>\n",
       "  </tbody>\n",
       "</table>\n",
       "</div>"
      ],
      "text/plain": [
       "   ID Код_диагноза                                            Диагноз  \\\n",
       "0   0        J06.0                             Острый ларингофарингит   \n",
       "1   1        N76.1                    Подострый и хронический вагинит   \n",
       "2   2        L23.9  Аллергический контактный дерматит, причина не ...   \n",
       "3   3        N48.1                                       Баланопостит   \n",
       "4   4        Z00.0                           Общий медицинский осмотр   \n",
       "\n",
       "   Возраст  Пол Общее состояние     аллергия  \\\n",
       "0       29    2             NaN          NaN   \n",
       "1       45    2             NaN          NaN   \n",
       "2       63    2             NaN          NaN   \n",
       "3       43    2             NaN  не отягощен   \n",
       "4       29    1             NaN          NaN   \n",
       "\n",
       "                                 Анамнез заболевания  \\\n",
       "0                                                NaN   \n",
       "1  считает себя больной на протяжении многих лет....   \n",
       "2  Болен около 2-х дней, когда появились описанны...   \n",
       "3                                                NaN   \n",
       "4  провела полное обследование для оперативного л...   \n",
       "\n",
       "                                      Внешний осмотр  Revisit  \n",
       "0  На жевательной поверхности 2.6- кариозная поло...        1  \n",
       "1                                                NaN        1  \n",
       "2                                                NaN        1  \n",
       "3                                                NaN        1  \n",
       "4                                                NaN        1  "
      ]
     },
     "execution_count": 3,
     "metadata": {},
     "output_type": "execute_result"
    }
   ],
   "source": [
    "d.head()"
   ]
  },
  {
   "cell_type": "code",
   "execution_count": 4,
   "metadata": {},
   "outputs": [
    {
     "data": {
      "text/plain": [
       "(283086, 10)"
      ]
     },
     "execution_count": 4,
     "metadata": {},
     "output_type": "execute_result"
    }
   ],
   "source": [
    "d.shape"
   ]
  },
  {
   "cell_type": "code",
   "execution_count": 5,
   "metadata": {},
   "outputs": [],
   "source": [
    "df = pd.read_csv('mkb10.csv', error_bad_lines=False, header=0)"
   ]
  },
  {
   "cell_type": "code",
   "execution_count": 6,
   "metadata": {},
   "outputs": [
    {
     "data": {
      "text/html": [
       "<div>\n",
       "<style scoped>\n",
       "    .dataframe tbody tr th:only-of-type {\n",
       "        vertical-align: middle;\n",
       "    }\n",
       "\n",
       "    .dataframe tbody tr th {\n",
       "        vertical-align: top;\n",
       "    }\n",
       "\n",
       "    .dataframe thead th {\n",
       "        text-align: right;\n",
       "    }\n",
       "</style>\n",
       "<table border=\"1\" class=\"dataframe\">\n",
       "  <thead>\n",
       "    <tr style=\"text-align: right;\">\n",
       "      <th></th>\n",
       "      <th>Код</th>\n",
       "      <th>Название</th>\n",
       "      <th>Родителя</th>\n",
       "    </tr>\n",
       "  </thead>\n",
       "  <tbody>\n",
       "    <tr>\n",
       "      <th>0</th>\n",
       "      <td>A00-B99</td>\n",
       "      <td>Некоторые инфекционные и паразитарные болезни</td>\n",
       "      <td>NaN</td>\n",
       "    </tr>\n",
       "    <tr>\n",
       "      <th>1</th>\n",
       "      <td>A00-A09</td>\n",
       "      <td>Кишечные инфекции</td>\n",
       "      <td>A00-B99</td>\n",
       "    </tr>\n",
       "    <tr>\n",
       "      <th>2</th>\n",
       "      <td>A00</td>\n",
       "      <td>Холера</td>\n",
       "      <td>A00-A09</td>\n",
       "    </tr>\n",
       "    <tr>\n",
       "      <th>3</th>\n",
       "      <td>A00.0</td>\n",
       "      <td>Холера, вызванная холерным вибрионом 01, биова...</td>\n",
       "      <td>A00</td>\n",
       "    </tr>\n",
       "    <tr>\n",
       "      <th>4</th>\n",
       "      <td>A00.1</td>\n",
       "      <td>Холера, вызванная холерным вибрионом 01, биова...</td>\n",
       "      <td>A00</td>\n",
       "    </tr>\n",
       "  </tbody>\n",
       "</table>\n",
       "</div>"
      ],
      "text/plain": [
       "       Код                                           Название Родителя\n",
       "0  A00-B99      Некоторые инфекционные и паразитарные болезни      NaN\n",
       "1  A00-A09                                  Кишечные инфекции  A00-B99\n",
       "2      A00                                             Холера  A00-A09\n",
       "3    A00.0  Холера, вызванная холерным вибрионом 01, биова...      A00\n",
       "4    A00.1  Холера, вызванная холерным вибрионом 01, биова...      A00"
      ]
     },
     "execution_count": 6,
     "metadata": {},
     "output_type": "execute_result"
    }
   ],
   "source": [
    "df.head()"
   ]
  },
  {
   "cell_type": "code",
   "execution_count": 7,
   "metadata": {},
   "outputs": [
    {
     "data": {
      "text/plain": [
       "['A00',\n",
       " 'Холера',\n",
       " 'A00',\n",
       " 'Холера',\n",
       " 'A00-A09',\n",
       " 'Кишечные инфекции',\n",
       " 'A00-B99',\n",
       " 'Некоторые инфекционные и паразитарные болезни',\n",
       " 'A00-B99',\n",
       " 'Некоторые инфекционные и паразитарные болезни']"
      ]
     },
     "execution_count": 7,
     "metadata": {},
     "output_type": "execute_result"
    }
   ],
   "source": [
    "def find_class_of_disease(s):\n",
    "    parent = df[df.Код == s].iloc[0, 2]\n",
    "    l = [s, df[df.Код == s].iloc[0, 1]]\n",
    "    while not pd.isnull(parent):\n",
    "        s = parent\n",
    "        l.append(s)\n",
    "        l.append(df[df.Код == s].iloc[0, 1])\n",
    "        parent = df[df.Код == s].iloc[0, 2]\n",
    "    if len(l) == 6:\n",
    "        l.insert(0, l[1])\n",
    "        l.insert(0, l[1])\n",
    "    if len(l) == 8:\n",
    "        l.insert(len(l) - 2, l[-2])\n",
    "        l.insert(len(l) - 2, l[-1])\n",
    "    return l\n",
    "find_class_of_disease('A00')"
   ]
  },
  {
   "cell_type": "code",
   "execution_count": 8,
   "metadata": {},
   "outputs": [],
   "source": [
    "d.iloc[13159, 1] =  'A04'\n",
    "d.iloc[15896, 1] = 'T76.8'\n",
    "d.iloc[24848, 1] = 'T76.8'\n",
    "d.iloc[25652, 1] = 'A03.8'\n",
    "d.iloc[47761, 1] = 'A04.9'\n",
    "d.iloc[55274, 1] = 'A04.9'\n",
    "d.iloc[55769, 1] = 'A04.9'\n",
    "d.iloc[60456, 1] = 'A07.1'\n",
    "d.iloc[82176, 1] = 'A07.1'\n",
    "d.iloc[87098, 1] = 'A03.1'\n",
    "d.iloc[88119, 1] = 'A04.9'\n",
    "d.iloc[93778, 1] = 'T76.8'\n",
    "d.iloc[103545, 1] = 'A08.4'\n",
    "d.iloc[109548, 1] = 'A08.4'\n",
    "d.iloc[110483, 1] = 'A04.9'\n",
    "d.iloc[115065, 1] = 'T76.8'\n",
    "d.iloc[116228, 1] = 'A15.6'\n",
    "d.iloc[140154, 1] = 'T76.8'  #Другие уточненные воспалительные болезни влага\n",
    "d.iloc[164281, 1] = 'A04.9'  #Бактериальная кишечная инфекция неуточненна\n",
    "d.iloc[181572, 1] = 'A07.1' #Жиардиаз\n",
    "d.iloc[190383, 1] = 'T76.8'\n",
    "d.iloc[227788, 1] = 'A04.9'\n",
    "d.iloc[244603, 1] = 'A15.8'\n",
    "d.iloc[251455, 1] = 'A04.9'\n",
    "d.iloc[253312, 1] = 'A07.1'\n",
    "d.iloc[257096, 1] = 'A05.9'\n",
    "d.iloc[274090, 1] = 'A07.1'\n"
   ]
  },
  {
   "cell_type": "code",
   "execution_count": null,
   "metadata": {},
   "outputs": [],
   "source": [
    "from tqdm import tqdm\n",
    "\n",
    "l = 0\n",
    "new_data=[]\n",
    "for i in tqdm(range(d.shape[0])):\n",
    "    l = find_class_of_disease(d.iloc[i,1])\n",
    "    new_data.append(l)"
   ]
  },
  {
   "cell_type": "code",
   "execution_count": 2,
   "metadata": {},
   "outputs": [],
   "source": [
    "new_data = pd.read_csv('test.csv', error_bad_lines=False, header=0)"
   ]
  },
  {
   "cell_type": "code",
   "execution_count": 4,
   "metadata": {},
   "outputs": [],
   "source": [
    "transpose_new_data = list(map(list, zip(*new_data)))"
   ]
  },
  {
   "cell_type": "code",
   "execution_count": null,
   "metadata": {},
   "outputs": [],
   "source": [
    "len(transpose_new_data[0])"
   ]
  },
  {
   "cell_type": "code",
   "execution_count": null,
   "metadata": {},
   "outputs": [],
   "source": [
    "k = pd.DataFrame(transpose_new_data)\n",
    "k.to_csv('new_data_mrp.csv', index=False, header=False)"
   ]
  },
  {
   "cell_type": "code",
   "execution_count": null,
   "metadata": {},
   "outputs": [],
   "source": []
  }
 ],
 "metadata": {
  "kernelspec": {
   "display_name": "Python 3",
   "language": "python",
   "name": "python3"
  },
  "language_info": {
   "codemirror_mode": {
    "name": "ipython",
    "version": 3
   },
   "file_extension": ".py",
   "mimetype": "text/x-python",
   "name": "python",
   "nbconvert_exporter": "python",
   "pygments_lexer": "ipython3",
   "version": "3.6.4"
  }
 },
 "nbformat": 4,
 "nbformat_minor": 2
}
